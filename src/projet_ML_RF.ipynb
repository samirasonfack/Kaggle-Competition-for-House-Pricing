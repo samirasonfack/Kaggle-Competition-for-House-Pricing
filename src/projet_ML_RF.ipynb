{
  "nbformat": 4,
  "nbformat_minor": 0,
  "metadata": {
    "colab": {
      "provenance": [],
      "authorship_tag": "ABX9TyPTaSlT5K9ot1P9qM1Njjx1",
      "include_colab_link": true
    },
    "kernelspec": {
      "name": "python3",
      "display_name": "Python 3"
    },
    "language_info": {
      "name": "python"
    }
  },
  "cells": [
    {
      "cell_type": "markdown",
      "metadata": {
        "id": "view-in-github",
        "colab_type": "text"
      },
      "source": [
        "<a href=\"https://colab.research.google.com/github/samirasonfack/Kaggle-Competition-for-House-Pricing/blob/main/projet_ML_RF.ipynb\" target=\"_parent\"><img src=\"https://colab.research.google.com/assets/colab-badge.svg\" alt=\"Open In Colab\"/></a>"
      ]
    },
    {
      "cell_type": "code",
      "execution_count": null,
      "metadata": {
        "id": "5cwKsdRO8KQv"
      },
      "outputs": [],
      "source": [
        "import numpy as np\n",
        "import pandas as pd\n",
        "from sklearn.base import BaseEstimator, TransformerMixin\n",
        "from sklearn.preprocessing import OrdinalEncoder, OneHotEncoder, StandardScaler\n",
        "from sklearn.impute import SimpleImputer\n",
        "from sklearn.pipeline import Pipeline\n",
        "from sklearn.compose import ColumnTransformer\n",
        "from sklearn.svm import SVR\n",
        "from sklearn.metrics import mean_squared_error, r2_score\n",
        "\n",
        "class FeatureTransformer(BaseEstimator, TransformerMixin):\n",
        "    def __init__(self):\n",
        "\n",
        "        self.ordinal_encoder = None  # Will be defined after fit()\n",
        "\n",
        "        # Define ordinal features\n",
        "        self.ordinal_features = [\n",
        "            'ExterQual', 'ExterCond', 'BsmtQual', 'BsmtCond', 'BsmtFinType1', 'BsmtFinType2',\n",
        "            'BsmtExposure', 'KitchenQual', 'HeatingQC', 'FireplaceQu', 'GarageQual', 'GarageCond', 'PoolQC'\n",
        "        ]\n",
        "\n",
        "        # Mappings for ordinal encoding\n",
        "        self.ordinal_mappings = {\n",
        "            'ExterQual': ['Po', 'Fa', 'TA', 'Gd', 'Ex'],\n",
        "            'ExterCond': ['Po', 'Fa', 'TA', 'Gd', 'Ex'],\n",
        "            'BsmtQual': ['NA', 'Po', 'Fa', 'TA', 'Gd', 'Ex'],\n",
        "            'BsmtCond': ['NA', 'Po', 'Fa', 'TA', 'Gd', 'Ex'],\n",
        "            'BsmtExposure': ['NA', 'No', 'Mn', 'Av', 'Gd'],\n",
        "            'BsmtFinType1': ['NA', 'Unf', 'LwQ', 'Rec', 'BLQ', 'ALQ', 'GLQ'],\n",
        "            'BsmtFinType2': ['NA', 'Unf', 'LwQ', 'Rec', 'BLQ', 'ALQ', 'GLQ'],\n",
        "            'KitchenQual': ['Po', 'Fa', 'TA', 'Gd', 'Ex'],\n",
        "            'HeatingQC': ['Po', 'Fa', 'TA', 'Gd', 'Ex'],\n",
        "            'FireplaceQu': ['NA', 'Po', 'Fa', 'TA', 'Gd', 'Ex'],\n",
        "            'GarageQual': ['NA', 'Po', 'Fa', 'TA', 'Gd', 'Ex'],\n",
        "            'GarageCond': ['NA', 'Po', 'Fa', 'TA', 'Gd', 'Ex'],\n",
        "            'PoolQC': ['NA', 'Fa', 'TA', 'Gd', 'Ex']\n",
        "        }\n",
        "\n",
        "    def fit(self, X, y=None):\n",
        "        return self\n",
        "\n",
        "        # Add a transform method to apply the transformations\n",
        "    def transform(self, X):\n",
        "        # Create a copy of the input DataFrame to avoid modifying the original\n",
        "        X_transformed = X.copy()\n",
        "\n",
        "        # Apply strip to object columns\n",
        "        for col in X_transformed.select_dtypes(include=['object']).columns:\n",
        "            X_transformed[col] = X_transformed[col].str.strip()\n",
        "\n",
        "        # Convert other columns to numeric\n",
        "        for col in X_transformed.select_dtypes(exclude=['object']).columns:\n",
        "            X_transformed[col] = pd.to_numeric(X_transformed[col], errors='coerce')\n",
        "\n",
        "        return X_transformed\n",
        "\n",
        "\n",
        "# Define preprocessing pipeline for the dataset\n",
        "def preprocess_pipeline(df , feature_transformer):\n",
        "    # Define the ordinal features and non-ordinal (nominal) features\n",
        "    ordinal_features = [col for col in df.columns if col in FeatureTransformer().ordinal_features]\n",
        "    nominal_features = [col for col in df.select_dtypes(include=['object']).columns if col not in ordinal_features]\n",
        "    numerical_features = [col for col in df.select_dtypes(include=['number']).columns if col not in  ['SalePrice', 'Id']]\n",
        "\n",
        "    # Handle missing values and encoding transformations\n",
        "    preprocessor = ColumnTransformer(\n",
        "        transformers=[\n",
        "            ('ordinal', Pipeline([\n",
        "\n",
        "\n",
        "                ('ordinal_encoder', OrdinalEncoder(categories=[feature_transformer.ordinal_mappings[col]\n",
        "                                                              for col in ordinal_features if col in X_train.columns],\n",
        "                                                   handle_unknown='use_encoded_value', unknown_value=-1))\n",
        "            ]), ordinal_features),\n",
        "\n",
        "            ('nominal', Pipeline([\n",
        "\n",
        "                ('onehot', OneHotEncoder(sparse_output=False, drop='first', handle_unknown='ignore'))\n",
        "            ]), nominal_features),\n",
        "\n",
        "            ('numeric', Pipeline([\n",
        "                ('imputer', SimpleImputer(strategy='median'))\n",
        "            ]), numerical_features)\n",
        "        ]\n",
        "    )\n",
        "\n",
        "    return preprocessor\n"
      ]
    },
    {
      "cell_type": "code",
      "source": [
        "def clean(df):\n",
        "\n",
        "  for col in df.columns:\n",
        "    if df[col].dtype == 'object':\n",
        "        df[col] = df[col].astype(str).str.strip()\n",
        "    else:\n",
        "        df[col] = pd.to_numeric(df[col], errors='coerce')\n",
        "\n",
        "\n",
        "  ordinal_features = [\n",
        "      'ExterQual', 'ExterCond', 'BsmtQual', 'BsmtCond', 'BsmtFinType1', 'BsmtFinType2',\n",
        "      'BsmtExposure', 'KitchenQual', 'HeatingQC', 'FireplaceQu', 'GarageQual', 'GarageCond', 'PoolQC'\n",
        "  ]\n",
        "\n",
        "  # Assume these are your nominal features (categorical, non-ordinal)\n",
        "  nominal_features = [\n",
        "      'MSSubClass', 'MSZoning', 'Street', 'Alley', 'LotShape', 'LandContour',\n",
        "      'Utilities', 'LotConfig', 'LandSlope', 'Neighborhood', 'Condition1',\n",
        "      'Condition2', 'BldgType', 'HouseStyle', 'RoofStyle', 'RoofMatl',\n",
        "      'Exterior1st', 'Exterior2nd', 'MasVnrType', 'Foundation', 'Heating',\n",
        "      'CentralAir', 'Electrical', 'Functional', 'GarageType', 'GarageFinish',\n",
        "      'PavedDrive', 'Fence', 'MiscFeature', 'SaleType', 'SaleCondition'\n",
        "  ]\n",
        "\n",
        "\n",
        "  # Get the numeric columns by excluding ordinal and nominal features\n",
        "  numeric_columns = [col for col in df.columns\n",
        "                    if col not in ordinal_features and col not in nominal_features and col not in ['Id','SalePrice']]\n",
        "\n",
        "  for col in numeric_columns:\n",
        "      df[col] = df[col].replace('NA', np.nan)\n",
        "      df[col] = pd.to_numeric(df[col], errors='coerce')\n",
        "\n",
        "  return df\n",
        "\n"
      ],
      "metadata": {
        "id": "MXMljTtK9T-n"
      },
      "execution_count": null,
      "outputs": []
    },
    {
      "cell_type": "code",
      "source": [
        "from sklearn.model_selection import GridSearchCV\n",
        "\n",
        "# Chargement des données\n",
        "train = pd.read_csv(\"train.csv\")\n",
        "test = pd.read_csv(\"test.csv\")\n",
        "\n",
        "\n",
        "train.columns = train.columns.str.strip()\n",
        "test.columns = test.columns.str.strip()\n",
        "\n",
        "\n",
        "\n",
        "# Séparation des features et de la cible\n",
        "target = \"SalePrice\"\n",
        "id_col = \"Id\"\n",
        "X_train = train.drop(['Id' , 'SalePrice'] , axis=1)\n",
        "y_train = np.log(train[target])\n",
        "X_test = test.drop(columns=[id_col] , axis=1)\n",
        "\n",
        "\n"
      ],
      "metadata": {
        "id": "GM4e0ezJ8tzx"
      },
      "execution_count": null,
      "outputs": []
    },
    {
      "cell_type": "code",
      "source": [
        "\n",
        "X_train = clean(X_train)\n",
        "X_test = clean(X_test)"
      ],
      "metadata": {
        "id": "ml6nxolhP3w6"
      },
      "execution_count": null,
      "outputs": []
    },
    {
      "cell_type": "code",
      "source": [
        "from sklearn.ensemble import RandomForestRegressor\n",
        "from sklearn.model_selection import GridSearchCV, train_test_split\n",
        "\n",
        "feature_transformer = FeatureTransformer()\n",
        "X_train = feature_transformer.transform(X_train)\n",
        "X_test = feature_transformer.transform(X_test)\n",
        "\n",
        "preprocessor = preprocess_pipeline(X_train, feature_transformer)\n",
        "\n",
        "\n",
        "model = Pipeline([\n",
        "    ('preprocessor', preprocessor),\n",
        "    ('random_forest', RandomForestRegressor(n_estimators=100, random_state=42))\n",
        "])\n",
        "\n",
        "param_grid = {\n",
        "    'random_forest__n_estimators': [500],\n",
        "    'random_forest__max_depth': [10,20],\n",
        "    'random_forest__min_samples_split': [2, 5],\n",
        "    'random_forest__max_features': ['sqrt']\n",
        "}\n",
        "\n",
        "grid_search = GridSearchCV(model, param_grid, cv=5, scoring='neg_mean_squared_error', n_jobs=-1)\n",
        "grid_search.fit(X_train, y_train)\n",
        "\n",
        "\n",
        "best_model = grid_search.best_estimator_\n",
        "print(f\"Best Parameters: {grid_search.best_params_}\")\n",
        "\n",
        "y_pred = np.exp(best_model.predict(X_test))"
      ],
      "metadata": {
        "colab": {
          "base_uri": "https://localhost:8080/"
        },
        "id": "0sfIUvpMOLj-",
        "outputId": "9ff14678-7436-44a5-dcc7-dc10d5d14da7"
      },
      "execution_count": null,
      "outputs": [
        {
          "output_type": "stream",
          "name": "stdout",
          "text": [
            "Best Parameters: {'random_forest__max_depth': 20, 'random_forest__max_features': 'sqrt', 'random_forest__min_samples_split': 2, 'random_forest__n_estimators': 500}\n"
          ]
        },
        {
          "output_type": "stream",
          "name": "stderr",
          "text": [
            "/usr/local/lib/python3.11/dist-packages/sklearn/preprocessing/_encoders.py:246: UserWarning: Found unknown categories in columns [0, 5, 15, 16, 22, 28] during transform. These unknown categories will be encoded as all zeros\n",
            "  warnings.warn(\n"
          ]
        }
      ]
    },
    {
      "cell_type": "code",
      "source": [
        "# Save predictions\n",
        "submission = pd.DataFrame({id_col: test[id_col], target: y_pred})\n",
        "submission.to_csv(\"submission.csv\", index=False)\n",
        "\n",
        "print(\"✅ Préprocessing + entraînement Random Forest avec GridSearchCV terminé. Fichier 'submission.csv' généré !\")\n",
        "\n",
        "# Evaluate performance on training data\n",
        "y_train_pred = best_model.predict(X_train)\n",
        "\n",
        "# Calculate RMSE (Root Mean Squared Error)\n",
        "rmse = np.sqrt(mean_squared_error(y_train, y_train_pred))\n",
        "print(f\"RMSE on training data: {rmse:.4f}\")\n",
        "\n",
        "# Calculate R² (Coefficient of Determination)\n",
        "r2 = r2_score(y_train, y_train_pred)\n",
        "print(f\"R² on training data: {r2:.4f}\")"
      ],
      "metadata": {
        "colab": {
          "base_uri": "https://localhost:8080/"
        },
        "id": "hMTLQBSjOebo",
        "outputId": "53491c92-28ca-4be2-ee8c-a8d6ea3361bb"
      },
      "execution_count": null,
      "outputs": [
        {
          "output_type": "stream",
          "name": "stdout",
          "text": [
            "✅ Préprocessing + entraînement Random Forest avec GridSearchCV terminé. Fichier 'submission.csv' généré !\n",
            "RMSE on training data: 0.0526\n",
            "R² on training data: 0.9827\n"
          ]
        }
      ]
    }
  ]
}
